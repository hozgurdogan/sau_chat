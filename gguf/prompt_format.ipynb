{
 "cells": [
  {
   "cell_type": "code",
   "execution_count": 1,
   "id": "74eda5b2",
   "metadata": {},
   "outputs": [],
   "source": [
    "def format_llama3_chat_prompt(sample):\n",
    "    # system_message = sample['instruction']\n",
    "    system_message = \"\"\n",
    "    user_message = f\"Bağlam:\\n{sample['context']}\\n\\nSoru: {sample['question']}\"\n",
    "    assistant_message = sample['output']\n",
    "\n",
    "    # Llama 3'ün resmi chat formatı (model kartından teyit edin!)\n",
    "    # <|begin_of_text|> (opsiyonel, SFTTrainer kendi ekleyebilir)\n",
    "    # <|start_header_id|>system<|end_header_id|>\n",
    "    # {system_prompt}<|eot_id|>\n",
    "    # <|start_header_id|>user<|end_header_id|>\n",
    "    # {user_prompt}<|eot_id|>\n",
    "    # <|start_header_id|>assistant<|end_header_id|>\n",
    "    # {assistant_response}<|eot_id|>\n",
    "    # <|end_of_text|> (opsiyonel, SFTTrainer kendi ekleyebilir)\n",
    "\n",
    "    # SFTTrainer için genellikle tamamlanmış sohbeti içeren bir 'text' alanı oluşturulur.\n",
    "    prompt = f\"<|start_header_id|>system<|end_header_id|>\\n\\n{system_message}<|eot_id|>\"\n",
    "    prompt += f\"<|start_header_id|>user<|end_header_id|>\\n\\n{user_message}<|eot_id|>\"\n",
    "    prompt += f\"<|start_header_id|>assistant<|end_header_id|>\\n\\n{assistant_message}<|eot_id|>\"\n",
    "\n",
    "    # Not: SFTTrainer otomatik olarak <|begin_of_text|> ve <|end_of_text|> ekleyebilir.\n",
    "    # Model kartını kontrol etmek en sağlıklısı. Eğer Trainer eklemiyorsa manuel ekleyebilirsiniz.\n",
    "    # prompt = \"<|begin_of_text|>\" + prompt + \"<|end_of_text|>\" # Gerekirse\n",
    "\n",
    "    return {\"text\": prompt}"
   ]
  }
 ],
 "metadata": {
  "kernelspec": {
   "display_name": "rag_test",
   "language": "python",
   "name": "python3"
  },
  "language_info": {
   "codemirror_mode": {
    "name": "ipython",
    "version": 3
   },
   "file_extension": ".py",
   "mimetype": "text/x-python",
   "name": "python",
   "nbconvert_exporter": "python",
   "pygments_lexer": "ipython3",
   "version": "3.10.16"
  }
 },
 "nbformat": 4,
 "nbformat_minor": 5
}
